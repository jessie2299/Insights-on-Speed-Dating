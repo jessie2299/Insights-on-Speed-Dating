{
 "cells": [
  {
   "cell_type": "code",
   "execution_count": 8,
   "id": "2fcd4892",
   "metadata": {
    "id": "2fcd4892"
   },
   "outputs": [],
   "source": [
    "#import data"
   ]
  },
  {
   "cell_type": "code",
   "execution_count": 9,
   "id": "6e27bd22",
   "metadata": {
    "id": "6e27bd22",
    "outputId": "fe9f54c7-9dcd-4391-e746-fd39934033db"
   },
   "outputs": [
    {
     "name": "stdout",
     "output_type": "stream",
     "text": [
      "Requirement already satisfied: kaggle in c:\\users\\jessi\\anaconda3\\lib\\site-packages (1.5.12)\n",
      "Requirement already satisfied: urllib3 in c:\\users\\jessi\\anaconda3\\lib\\site-packages (from kaggle) (1.26.11)\n",
      "Requirement already satisfied: python-slugify in c:\\users\\jessi\\anaconda3\\lib\\site-packages (from kaggle) (5.0.2)\n",
      "Requirement already satisfied: certifi in c:\\users\\jessi\\anaconda3\\lib\\site-packages (from kaggle) (2022.9.14)\n",
      "Requirement already satisfied: six>=1.10 in c:\\users\\jessi\\anaconda3\\lib\\site-packages (from kaggle) (1.16.0)\n",
      "Requirement already satisfied: tqdm in c:\\users\\jessi\\anaconda3\\lib\\site-packages (from kaggle) (4.64.1)\n",
      "Requirement already satisfied: python-dateutil in c:\\users\\jessi\\anaconda3\\lib\\site-packages (from kaggle) (2.8.2)\n",
      "Requirement already satisfied: requests in c:\\users\\jessi\\anaconda3\\lib\\site-packages (from kaggle) (2.28.1)\n",
      "Requirement already satisfied: text-unidecode>=1.3 in c:\\users\\jessi\\anaconda3\\lib\\site-packages (from python-slugify->kaggle) (1.3)\n",
      "Requirement already satisfied: idna<4,>=2.5 in c:\\users\\jessi\\anaconda3\\lib\\site-packages (from requests->kaggle) (3.3)\n",
      "Requirement already satisfied: charset-normalizer<3,>=2 in c:\\users\\jessi\\anaconda3\\lib\\site-packages (from requests->kaggle) (2.0.4)\n",
      "Requirement already satisfied: colorama in c:\\users\\jessi\\anaconda3\\lib\\site-packages (from tqdm->kaggle) (0.4.5)\n"
     ]
    }
   ],
   "source": [
    "!pip install kaggle"
   ]
  },
  {
   "cell_type": "code",
   "execution_count": 10,
   "id": "117b639a",
   "metadata": {
    "id": "117b639a",
    "outputId": "fded46ef-db10-4a4d-9b07-2277e11f855c"
   },
   "outputs": [
    {
     "name": "stderr",
     "output_type": "stream",
     "text": [
      "The syntax of the command is incorrect.\n"
     ]
    }
   ],
   "source": [
    "#!mkdir ~/.kaggle"
   ]
  },
  {
   "cell_type": "code",
   "execution_count": 11,
   "id": "1c9f510d",
   "metadata": {
    "id": "1c9f510d",
    "outputId": "abed13a7-5c9e-4ccf-92d8-9b7708547dbb"
   },
   "outputs": [
    {
     "name": "stderr",
     "output_type": "stream",
     "text": [
      "'cp' is not recognized as an internal or external command,\n",
      "operable program or batch file.\n"
     ]
    }
   ],
   "source": [
    "!cp /Users/zhenglanhuang/Downloads/kaggle.json /Users/zhenglanhuang/.kaggle/kaggle.json"
   ]
  },
  {
   "cell_type": "code",
   "execution_count": 5,
   "id": "4f368eb3",
   "metadata": {
    "id": "4f368eb3"
   },
   "outputs": [],
   "source": [
    "import pandas as pd\n",
    "import numpy as np\n",
    "import matplotlib.pyplot as plt\n",
    "%matplotlib inline"
   ]
  },
  {
   "cell_type": "code",
   "execution_count": 6,
   "id": "e728b3ee",
   "metadata": {
    "id": "e728b3ee"
   },
   "outputs": [
    {
     "ename": "OSError",
     "evalue": "Could not find kaggle.json. Make sure it's located in C:\\Users\\jessi\\.kaggle. Or use the environment method.",
     "output_type": "error",
     "traceback": [
      "\u001b[1;31m---------------------------------------------------------------------------\u001b[0m",
      "\u001b[1;31mOSError\u001b[0m                                   Traceback (most recent call last)",
      "\u001b[1;32m~\\AppData\\Local\\Temp\\ipykernel_30236\\1791047740.py\u001b[0m in \u001b[0;36m<module>\u001b[1;34m\u001b[0m\n\u001b[1;32m----> 1\u001b[1;33m \u001b[1;32mfrom\u001b[0m \u001b[0mkaggle\u001b[0m\u001b[1;33m.\u001b[0m\u001b[0mapi\u001b[0m\u001b[1;33m.\u001b[0m\u001b[0mkaggle_api_extended\u001b[0m \u001b[1;32mimport\u001b[0m \u001b[0mKaggleApi\u001b[0m\u001b[1;33m\u001b[0m\u001b[1;33m\u001b[0m\u001b[0m\n\u001b[0m\u001b[0;32m      2\u001b[0m \u001b[0mapi\u001b[0m \u001b[1;33m=\u001b[0m \u001b[0mKaggleApi\u001b[0m\u001b[1;33m(\u001b[0m\u001b[1;33m)\u001b[0m\u001b[1;33m\u001b[0m\u001b[1;33m\u001b[0m\u001b[0m\n\u001b[0;32m      3\u001b[0m \u001b[0mapi\u001b[0m\u001b[1;33m.\u001b[0m\u001b[0mauthenticate\u001b[0m\u001b[1;33m(\u001b[0m\u001b[1;33m)\u001b[0m\u001b[1;33m\u001b[0m\u001b[1;33m\u001b[0m\u001b[0m\n",
      "\u001b[1;32m~\\anaconda3\\lib\\site-packages\\kaggle\\__init__.py\u001b[0m in \u001b[0;36m<module>\u001b[1;34m\u001b[0m\n\u001b[0;32m     21\u001b[0m \u001b[1;33m\u001b[0m\u001b[0m\n\u001b[0;32m     22\u001b[0m \u001b[0mapi\u001b[0m \u001b[1;33m=\u001b[0m \u001b[0mKaggleApi\u001b[0m\u001b[1;33m(\u001b[0m\u001b[0mApiClient\u001b[0m\u001b[1;33m(\u001b[0m\u001b[1;33m)\u001b[0m\u001b[1;33m)\u001b[0m\u001b[1;33m\u001b[0m\u001b[1;33m\u001b[0m\u001b[0m\n\u001b[1;32m---> 23\u001b[1;33m \u001b[0mapi\u001b[0m\u001b[1;33m.\u001b[0m\u001b[0mauthenticate\u001b[0m\u001b[1;33m(\u001b[0m\u001b[1;33m)\u001b[0m\u001b[1;33m\u001b[0m\u001b[1;33m\u001b[0m\u001b[0m\n\u001b[0m",
      "\u001b[1;32m~\\anaconda3\\lib\\site-packages\\kaggle\\api\\kaggle_api_extended.py\u001b[0m in \u001b[0;36mauthenticate\u001b[1;34m(self)\u001b[0m\n\u001b[0;32m    162\u001b[0m                 \u001b[0mconfig_data\u001b[0m \u001b[1;33m=\u001b[0m \u001b[0mself\u001b[0m\u001b[1;33m.\u001b[0m\u001b[0mread_config_file\u001b[0m\u001b[1;33m(\u001b[0m\u001b[0mconfig_data\u001b[0m\u001b[1;33m)\u001b[0m\u001b[1;33m\u001b[0m\u001b[1;33m\u001b[0m\u001b[0m\n\u001b[0;32m    163\u001b[0m             \u001b[1;32melse\u001b[0m\u001b[1;33m:\u001b[0m\u001b[1;33m\u001b[0m\u001b[1;33m\u001b[0m\u001b[0m\n\u001b[1;32m--> 164\u001b[1;33m                 raise IOError('Could not find {}. Make sure it\\'s located in'\n\u001b[0m\u001b[0;32m    165\u001b[0m                               ' {}. Or use the environment method.'.format(\n\u001b[0;32m    166\u001b[0m                                   self.config_file, self.config_dir))\n",
      "\u001b[1;31mOSError\u001b[0m: Could not find kaggle.json. Make sure it's located in C:\\Users\\jessi\\.kaggle. Or use the environment method."
     ]
    }
   ],
   "source": [
    "from kaggle.api.kaggle_api_extended import KaggleApi\n",
    "api = KaggleApi()\n",
    "api.authenticate()"
   ]
  },
  {
   "cell_type": "code",
   "execution_count": null,
   "id": "eb5a76f4",
   "metadata": {
    "id": "eb5a76f4"
   },
   "outputs": [],
   "source": [
    "!chmod 600 /Users/zhenglanhuang/.kaggle/kaggle.json"
   ]
  },
  {
   "cell_type": "code",
   "execution_count": null,
   "id": "1385eefb",
   "metadata": {
    "id": "1385eefb",
    "outputId": "376b2b9a-2b50-4fe4-e41f-2127c8f3142c"
   },
   "outputs": [],
   "source": [
    "api.dataset_download_file('annavictoria/speed-dating-experiment', 'Speed Dating Data.csv')"
   ]
  },
  {
   "cell_type": "code",
   "execution_count": null,
   "id": "d33f9696",
   "metadata": {
    "id": "d33f9696"
   },
   "outputs": [],
   "source": [
    "data = pd.read_csv('Speed%20Dating%20Data.csv.zip', encoding=('ISO-8859-1'))\n",
    "    "
   ]
  },
  {
   "cell_type": "code",
   "execution_count": null,
   "id": "5521ffd7",
   "metadata": {
    "id": "5521ffd7",
    "outputId": "c3856714-303d-4593-b896-3e019abf12cf"
   },
   "outputs": [
    {
     "data": {
      "text/html": [
       "<div>\n",
       "<style scoped>\n",
       "    .dataframe tbody tr th:only-of-type {\n",
       "        vertical-align: middle;\n",
       "    }\n",
       "\n",
       "    .dataframe tbody tr th {\n",
       "        vertical-align: top;\n",
       "    }\n",
       "\n",
       "    .dataframe thead th {\n",
       "        text-align: right;\n",
       "    }\n",
       "</style>\n",
       "<table border=\"1\" class=\"dataframe\">\n",
       "  <thead>\n",
       "    <tr style=\"text-align: right;\">\n",
       "      <th></th>\n",
       "      <th>iid</th>\n",
       "      <th>id</th>\n",
       "      <th>gender</th>\n",
       "      <th>idg</th>\n",
       "      <th>condtn</th>\n",
       "      <th>wave</th>\n",
       "      <th>round</th>\n",
       "      <th>position</th>\n",
       "      <th>positin1</th>\n",
       "      <th>order</th>\n",
       "      <th>...</th>\n",
       "      <th>attr3_3</th>\n",
       "      <th>sinc3_3</th>\n",
       "      <th>intel3_3</th>\n",
       "      <th>fun3_3</th>\n",
       "      <th>amb3_3</th>\n",
       "      <th>attr5_3</th>\n",
       "      <th>sinc5_3</th>\n",
       "      <th>intel5_3</th>\n",
       "      <th>fun5_3</th>\n",
       "      <th>amb5_3</th>\n",
       "    </tr>\n",
       "  </thead>\n",
       "  <tbody>\n",
       "    <tr>\n",
       "      <th>0</th>\n",
       "      <td>1</td>\n",
       "      <td>1.0</td>\n",
       "      <td>0</td>\n",
       "      <td>1</td>\n",
       "      <td>1</td>\n",
       "      <td>1</td>\n",
       "      <td>10</td>\n",
       "      <td>7</td>\n",
       "      <td>NaN</td>\n",
       "      <td>4</td>\n",
       "      <td>...</td>\n",
       "      <td>5.0</td>\n",
       "      <td>7.0</td>\n",
       "      <td>7.0</td>\n",
       "      <td>7.0</td>\n",
       "      <td>7.0</td>\n",
       "      <td>NaN</td>\n",
       "      <td>NaN</td>\n",
       "      <td>NaN</td>\n",
       "      <td>NaN</td>\n",
       "      <td>NaN</td>\n",
       "    </tr>\n",
       "    <tr>\n",
       "      <th>1</th>\n",
       "      <td>1</td>\n",
       "      <td>1.0</td>\n",
       "      <td>0</td>\n",
       "      <td>1</td>\n",
       "      <td>1</td>\n",
       "      <td>1</td>\n",
       "      <td>10</td>\n",
       "      <td>7</td>\n",
       "      <td>NaN</td>\n",
       "      <td>3</td>\n",
       "      <td>...</td>\n",
       "      <td>5.0</td>\n",
       "      <td>7.0</td>\n",
       "      <td>7.0</td>\n",
       "      <td>7.0</td>\n",
       "      <td>7.0</td>\n",
       "      <td>NaN</td>\n",
       "      <td>NaN</td>\n",
       "      <td>NaN</td>\n",
       "      <td>NaN</td>\n",
       "      <td>NaN</td>\n",
       "    </tr>\n",
       "    <tr>\n",
       "      <th>2</th>\n",
       "      <td>1</td>\n",
       "      <td>1.0</td>\n",
       "      <td>0</td>\n",
       "      <td>1</td>\n",
       "      <td>1</td>\n",
       "      <td>1</td>\n",
       "      <td>10</td>\n",
       "      <td>7</td>\n",
       "      <td>NaN</td>\n",
       "      <td>10</td>\n",
       "      <td>...</td>\n",
       "      <td>5.0</td>\n",
       "      <td>7.0</td>\n",
       "      <td>7.0</td>\n",
       "      <td>7.0</td>\n",
       "      <td>7.0</td>\n",
       "      <td>NaN</td>\n",
       "      <td>NaN</td>\n",
       "      <td>NaN</td>\n",
       "      <td>NaN</td>\n",
       "      <td>NaN</td>\n",
       "    </tr>\n",
       "    <tr>\n",
       "      <th>3</th>\n",
       "      <td>1</td>\n",
       "      <td>1.0</td>\n",
       "      <td>0</td>\n",
       "      <td>1</td>\n",
       "      <td>1</td>\n",
       "      <td>1</td>\n",
       "      <td>10</td>\n",
       "      <td>7</td>\n",
       "      <td>NaN</td>\n",
       "      <td>5</td>\n",
       "      <td>...</td>\n",
       "      <td>5.0</td>\n",
       "      <td>7.0</td>\n",
       "      <td>7.0</td>\n",
       "      <td>7.0</td>\n",
       "      <td>7.0</td>\n",
       "      <td>NaN</td>\n",
       "      <td>NaN</td>\n",
       "      <td>NaN</td>\n",
       "      <td>NaN</td>\n",
       "      <td>NaN</td>\n",
       "    </tr>\n",
       "    <tr>\n",
       "      <th>4</th>\n",
       "      <td>1</td>\n",
       "      <td>1.0</td>\n",
       "      <td>0</td>\n",
       "      <td>1</td>\n",
       "      <td>1</td>\n",
       "      <td>1</td>\n",
       "      <td>10</td>\n",
       "      <td>7</td>\n",
       "      <td>NaN</td>\n",
       "      <td>7</td>\n",
       "      <td>...</td>\n",
       "      <td>5.0</td>\n",
       "      <td>7.0</td>\n",
       "      <td>7.0</td>\n",
       "      <td>7.0</td>\n",
       "      <td>7.0</td>\n",
       "      <td>NaN</td>\n",
       "      <td>NaN</td>\n",
       "      <td>NaN</td>\n",
       "      <td>NaN</td>\n",
       "      <td>NaN</td>\n",
       "    </tr>\n",
       "    <tr>\n",
       "      <th>...</th>\n",
       "      <td>...</td>\n",
       "      <td>...</td>\n",
       "      <td>...</td>\n",
       "      <td>...</td>\n",
       "      <td>...</td>\n",
       "      <td>...</td>\n",
       "      <td>...</td>\n",
       "      <td>...</td>\n",
       "      <td>...</td>\n",
       "      <td>...</td>\n",
       "      <td>...</td>\n",
       "      <td>...</td>\n",
       "      <td>...</td>\n",
       "      <td>...</td>\n",
       "      <td>...</td>\n",
       "      <td>...</td>\n",
       "      <td>...</td>\n",
       "      <td>...</td>\n",
       "      <td>...</td>\n",
       "      <td>...</td>\n",
       "      <td>...</td>\n",
       "    </tr>\n",
       "    <tr>\n",
       "      <th>8373</th>\n",
       "      <td>552</td>\n",
       "      <td>22.0</td>\n",
       "      <td>1</td>\n",
       "      <td>44</td>\n",
       "      <td>2</td>\n",
       "      <td>21</td>\n",
       "      <td>22</td>\n",
       "      <td>14</td>\n",
       "      <td>10.0</td>\n",
       "      <td>5</td>\n",
       "      <td>...</td>\n",
       "      <td>8.0</td>\n",
       "      <td>5.0</td>\n",
       "      <td>7.0</td>\n",
       "      <td>6.0</td>\n",
       "      <td>7.0</td>\n",
       "      <td>9.0</td>\n",
       "      <td>5.0</td>\n",
       "      <td>9.0</td>\n",
       "      <td>5.0</td>\n",
       "      <td>6.0</td>\n",
       "    </tr>\n",
       "    <tr>\n",
       "      <th>8374</th>\n",
       "      <td>552</td>\n",
       "      <td>22.0</td>\n",
       "      <td>1</td>\n",
       "      <td>44</td>\n",
       "      <td>2</td>\n",
       "      <td>21</td>\n",
       "      <td>22</td>\n",
       "      <td>13</td>\n",
       "      <td>10.0</td>\n",
       "      <td>4</td>\n",
       "      <td>...</td>\n",
       "      <td>8.0</td>\n",
       "      <td>5.0</td>\n",
       "      <td>7.0</td>\n",
       "      <td>6.0</td>\n",
       "      <td>7.0</td>\n",
       "      <td>9.0</td>\n",
       "      <td>5.0</td>\n",
       "      <td>9.0</td>\n",
       "      <td>5.0</td>\n",
       "      <td>6.0</td>\n",
       "    </tr>\n",
       "    <tr>\n",
       "      <th>8375</th>\n",
       "      <td>552</td>\n",
       "      <td>22.0</td>\n",
       "      <td>1</td>\n",
       "      <td>44</td>\n",
       "      <td>2</td>\n",
       "      <td>21</td>\n",
       "      <td>22</td>\n",
       "      <td>19</td>\n",
       "      <td>10.0</td>\n",
       "      <td>10</td>\n",
       "      <td>...</td>\n",
       "      <td>8.0</td>\n",
       "      <td>5.0</td>\n",
       "      <td>7.0</td>\n",
       "      <td>6.0</td>\n",
       "      <td>7.0</td>\n",
       "      <td>9.0</td>\n",
       "      <td>5.0</td>\n",
       "      <td>9.0</td>\n",
       "      <td>5.0</td>\n",
       "      <td>6.0</td>\n",
       "    </tr>\n",
       "    <tr>\n",
       "      <th>8376</th>\n",
       "      <td>552</td>\n",
       "      <td>22.0</td>\n",
       "      <td>1</td>\n",
       "      <td>44</td>\n",
       "      <td>2</td>\n",
       "      <td>21</td>\n",
       "      <td>22</td>\n",
       "      <td>3</td>\n",
       "      <td>10.0</td>\n",
       "      <td>16</td>\n",
       "      <td>...</td>\n",
       "      <td>8.0</td>\n",
       "      <td>5.0</td>\n",
       "      <td>7.0</td>\n",
       "      <td>6.0</td>\n",
       "      <td>7.0</td>\n",
       "      <td>9.0</td>\n",
       "      <td>5.0</td>\n",
       "      <td>9.0</td>\n",
       "      <td>5.0</td>\n",
       "      <td>6.0</td>\n",
       "    </tr>\n",
       "    <tr>\n",
       "      <th>8377</th>\n",
       "      <td>552</td>\n",
       "      <td>NaN</td>\n",
       "      <td>1</td>\n",
       "      <td>44</td>\n",
       "      <td>2</td>\n",
       "      <td>21</td>\n",
       "      <td>22</td>\n",
       "      <td>2</td>\n",
       "      <td>10.0</td>\n",
       "      <td>15</td>\n",
       "      <td>...</td>\n",
       "      <td>8.0</td>\n",
       "      <td>5.0</td>\n",
       "      <td>7.0</td>\n",
       "      <td>6.0</td>\n",
       "      <td>7.0</td>\n",
       "      <td>9.0</td>\n",
       "      <td>5.0</td>\n",
       "      <td>9.0</td>\n",
       "      <td>5.0</td>\n",
       "      <td>6.0</td>\n",
       "    </tr>\n",
       "  </tbody>\n",
       "</table>\n",
       "<p>8378 rows × 195 columns</p>\n",
       "</div>"
      ],
      "text/plain": [
       "      iid    id  gender  idg  condtn  wave  round  position  positin1  order  \\\n",
       "0       1   1.0       0    1       1     1     10         7       NaN      4   \n",
       "1       1   1.0       0    1       1     1     10         7       NaN      3   \n",
       "2       1   1.0       0    1       1     1     10         7       NaN     10   \n",
       "3       1   1.0       0    1       1     1     10         7       NaN      5   \n",
       "4       1   1.0       0    1       1     1     10         7       NaN      7   \n",
       "...   ...   ...     ...  ...     ...   ...    ...       ...       ...    ...   \n",
       "8373  552  22.0       1   44       2    21     22        14      10.0      5   \n",
       "8374  552  22.0       1   44       2    21     22        13      10.0      4   \n",
       "8375  552  22.0       1   44       2    21     22        19      10.0     10   \n",
       "8376  552  22.0       1   44       2    21     22         3      10.0     16   \n",
       "8377  552   NaN       1   44       2    21     22         2      10.0     15   \n",
       "\n",
       "      ...  attr3_3  sinc3_3  intel3_3  fun3_3  amb3_3  attr5_3  sinc5_3  \\\n",
       "0     ...      5.0      7.0       7.0     7.0     7.0      NaN      NaN   \n",
       "1     ...      5.0      7.0       7.0     7.0     7.0      NaN      NaN   \n",
       "2     ...      5.0      7.0       7.0     7.0     7.0      NaN      NaN   \n",
       "3     ...      5.0      7.0       7.0     7.0     7.0      NaN      NaN   \n",
       "4     ...      5.0      7.0       7.0     7.0     7.0      NaN      NaN   \n",
       "...   ...      ...      ...       ...     ...     ...      ...      ...   \n",
       "8373  ...      8.0      5.0       7.0     6.0     7.0      9.0      5.0   \n",
       "8374  ...      8.0      5.0       7.0     6.0     7.0      9.0      5.0   \n",
       "8375  ...      8.0      5.0       7.0     6.0     7.0      9.0      5.0   \n",
       "8376  ...      8.0      5.0       7.0     6.0     7.0      9.0      5.0   \n",
       "8377  ...      8.0      5.0       7.0     6.0     7.0      9.0      5.0   \n",
       "\n",
       "      intel5_3  fun5_3  amb5_3  \n",
       "0          NaN     NaN     NaN  \n",
       "1          NaN     NaN     NaN  \n",
       "2          NaN     NaN     NaN  \n",
       "3          NaN     NaN     NaN  \n",
       "4          NaN     NaN     NaN  \n",
       "...        ...     ...     ...  \n",
       "8373       9.0     5.0     6.0  \n",
       "8374       9.0     5.0     6.0  \n",
       "8375       9.0     5.0     6.0  \n",
       "8376       9.0     5.0     6.0  \n",
       "8377       9.0     5.0     6.0  \n",
       "\n",
       "[8378 rows x 195 columns]"
      ]
     },
     "execution_count": 10,
     "metadata": {},
     "output_type": "execute_result"
    }
   ],
   "source": [
    "data"
   ]
  },
  {
   "cell_type": "code",
   "execution_count": null,
   "id": "7c0c4e5d",
   "metadata": {
    "id": "7c0c4e5d"
   },
   "outputs": [],
   "source": [
    "#clean data: What do you look for in the opposite sex?"
   ]
  },
  {
   "cell_type": "code",
   "execution_count": null,
   "id": "0eb3660a",
   "metadata": {
    "id": "0eb3660a"
   },
   "outputs": [],
   "source": [
    "look4 = data[['gender','attr1_1','sinc1_1','intel1_1','fun1_1','amb1_1','shar1_1']]\n",
    "look4['gender'] = look4['gender'].replace([0,1],['Women','Men'])\n",
    "final_look4 = look4.groupby('gender').mean()\n",
    "final_look4"
   ]
  },
  {
   "cell_type": "code",
   "execution_count": null,
   "id": "47c685b6",
   "metadata": {
    "id": "47c685b6"
   },
   "outputs": [],
   "source": [
    "#plot: What do you look for in the opposite sex?"
   ]
  },
  {
   "cell_type": "code",
   "execution_count": null,
   "id": "a4def5ae",
   "metadata": {
    "id": "a4def5ae"
   },
   "outputs": [],
   "source": [
    "men.look4 = list(final_look4.iloc[0])\n",
    "women.look4 = list(final_look4.iloc[1])"
   ]
  },
  {
   "cell_type": "code",
   "execution_count": null,
   "id": "399bd1a8",
   "metadata": {
    "id": "399bd1a8",
    "outputId": "7ee5c9fb-5a6e-4c3e-c4fc-e59812cf07ca"
   },
   "outputs": [
    {
     "data": {
      "image/png": "[encoded data removed]",
      "text/plain": [
       "<Figure size 1000x500 with 1 Axes>"
      ]
     },
     "metadata": {},
     "output_type": "display_data"
    }
   ],
   "source": [
    "x = ['Attractive','Sincere','Intelligent','Fun','Ambitious','Shared Interests']\n",
    "x_axis = np.arange(len(x))\n",
    "plt.subplots(figsize=(10,5))\n",
    "plt.bar(x_axis - 0.2, men, 0.4, label = 'Men', color = '#d4e69c')\n",
    "plt.bar(x_axis + 0.2, women, 0.4, label = 'Women', color = '#ffe1df')\n",
    "plt.title('What People Are Looking For in the Opposite Sex?')\n",
    "plt.xticks(x_axis, x)\n",
    "plt.legend()\n",
    "plt.show()"
   ]
  },
  {
   "cell_type": "code",
   "execution_count": null,
   "id": "0f68d386",
   "metadata": {
    "id": "0f68d386"
   },
   "outputs": [],
   "source": [
    "#clean data: What do you think the opposite sex looks for in a date? "
   ]
  },
  {
   "cell_type": "code",
   "execution_count": null,
   "id": "d715d971",
   "metadata": {
    "id": "d715d971",
    "outputId": "f9be6f2b-7720-46f8-b541-3b6e10b1204a"
   },
   "outputs": [
    {
     "name": "stderr",
     "output_type": "stream",
     "text": [
      "/var/folders/h_/72bktrmj3qxbqp2wl_79kq5m0000gn/T/ipykernel_72036/381969687.py:2: SettingWithCopyWarning: \n",
      "A value is trying to be set on a copy of a slice from a DataFrame.\n",
      "Try using .loc[row_indexer,col_indexer] = value instead\n",
      "\n",
      "See the caveats in the documentation: https://pandas.pydata.org/pandas-docs/stable/user_guide/indexing.html#returning-a-view-versus-a-copy\n",
      "  oplook['gender'] = oplook['gender'].replace([0,1],['Women','Men'])\n"
     ]
    },
    {
     "data": {
      "text/html": [
       "<div>\n",
       "<style scoped>\n",
       "    .dataframe tbody tr th:only-of-type {\n",
       "        vertical-align: middle;\n",
       "    }\n",
       "\n",
       "    .dataframe tbody tr th {\n",
       "        vertical-align: top;\n",
       "    }\n",
       "\n",
       "    .dataframe thead th {\n",
       "        text-align: right;\n",
       "    }\n",
       "</style>\n",
       "<table border=\"1\" class=\"dataframe\">\n",
       "  <thead>\n",
       "    <tr style=\"text-align: right;\">\n",
       "      <th></th>\n",
       "      <th>attr2_1</th>\n",
       "      <th>sinc2_1</th>\n",
       "      <th>intel2_1</th>\n",
       "      <th>fun2_1</th>\n",
       "      <th>amb2_1</th>\n",
       "      <th>shar2_1</th>\n",
       "    </tr>\n",
       "    <tr>\n",
       "      <th>gender</th>\n",
       "      <th></th>\n",
       "      <th></th>\n",
       "      <th></th>\n",
       "      <th></th>\n",
       "      <th></th>\n",
       "      <th></th>\n",
       "    </tr>\n",
       "  </thead>\n",
       "  <tbody>\n",
       "    <tr>\n",
       "      <th>Men</th>\n",
       "      <td>25.092631</td>\n",
       "      <td>15.181078</td>\n",
       "      <td>16.279633</td>\n",
       "      <td>18.115379</td>\n",
       "      <td>14.234815</td>\n",
       "      <td>11.071924</td>\n",
       "    </tr>\n",
       "    <tr>\n",
       "      <th>Women</th>\n",
       "      <td>35.694349</td>\n",
       "      <td>11.343646</td>\n",
       "      <td>12.532022</td>\n",
       "      <td>18.733510</td>\n",
       "      <td>9.230638</td>\n",
       "      <td>12.645113</td>\n",
       "    </tr>\n",
       "  </tbody>\n",
       "</table>\n",
       "</div>"
      ],
      "text/plain": [
       "          attr2_1    sinc2_1   intel2_1     fun2_1     amb2_1    shar2_1\n",
       "gender                                                                  \n",
       "Men     25.092631  15.181078  16.279633  18.115379  14.234815  11.071924\n",
       "Women   35.694349  11.343646  12.532022  18.733510   9.230638  12.645113"
      ]
     },
     "execution_count": 24,
     "metadata": {},
     "output_type": "execute_result"
    }
   ],
   "source": [
    "oplook = data[['gender','attr2_1','sinc2_1','intel2_1','fun2_1','amb2_1','shar2_1']]\n",
    "oplook['gender'] = oplook['gender'].replace([0,1],['Women','Men'])\n",
    "final_oplook = oplook.groupby('gender').mean()\n",
    "final_oplook"
   ]
  },
  {
   "cell_type": "code",
   "execution_count": null,
   "id": "cf81e0d7",
   "metadata": {
    "id": "cf81e0d7"
   },
   "outputs": [],
   "source": [
    "#plot: What do you think the opposite sex looks for in a date? "
   ]
  },
  {
   "cell_type": "code",
   "execution_count": null,
   "id": "05aaa976",
   "metadata": {
    "id": "05aaa976"
   },
   "outputs": [],
   "source": [
    "men_oplook = list(final_oplook.iloc[0])\n",
    "women_oplook = list(final_oplook.iloc[1])"
   ]
  },
  {
   "cell_type": "code",
   "execution_count": null,
   "id": "33b0dd5b",
   "metadata": {
    "id": "33b0dd5b",
    "outputId": "f5807a6f-bfa9-44ba-cdff-2c9d48759e71"
   },
   "outputs": [
    {
     "data": {
      "image/png": "[encoded data removed]",
      "text/plain": [
       "<Figure size 1000x500 with 1 Axes>"
      ]
     },
     "metadata": {},
     "output_type": "display_data"
    }
   ],
   "source": [
    "plt.subplots(figsize=(10,5))\n",
    "plt.bar(x_axis - 0.2, men_oplook, 0.4, label = 'Men', color = '#ffe1df')\n",
    "plt.bar(x_axis + 0.2, women_oplook, 0.4, label = 'Women', color = '#d4e69c')\n",
    "plt.title('What do you think the opposite sex looks for in a date? ')\n",
    "plt.xticks(x_axis, x)\n",
    "plt.legend()\n",
    "plt.show()"
   ]
  },
  {
   "cell_type": "code",
   "execution_count": null,
   "id": "11f11930",
   "metadata": {
    "id": "11f11930"
   },
   "outputs": [],
   "source": [
    "#clean data: First vs last speed date on chance of getting a second date(match vs variables)"
   ]
  },
  {
   "cell_type": "code",
   "execution_count": null,
   "id": "4a5bdfef",
   "metadata": {
    "id": "4a5bdfef"
   },
   "outputs": [],
   "source": []
  }
 ],
 "metadata": {
  "colab": {
   "provenance": []
  },
  "kernelspec": {
   "display_name": "Python 3 (ipykernel)",
   "language": "python",
   "name": "python3"
  },
  "language_info": {
   "codemirror_mode": {
    "name": "ipython",
    "version": 3
   },
   "file_extension": ".py",
   "mimetype": "text/x-python",
   "name": "python",
   "nbconvert_exporter": "python",
   "pygments_lexer": "ipython3",
   "version": "3.9.13"
  }
 },
 "nbformat": 4,
 "nbformat_minor": 5
}
